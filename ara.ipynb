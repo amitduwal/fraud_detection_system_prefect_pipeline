{
 "cells": [
  {
   "cell_type": "code",
   "execution_count": 1,
   "metadata": {},
   "outputs": [
    {
     "name": "stdout",
     "output_type": "stream",
     "text": [
      "['0', '0.0']\n",
      "['0', '0.0']\n",
      "['0', '0.0']\n",
      "['0', '0.0']\n",
      "['0', '0.0']\n",
      "['0', '0.0']\n",
      "['0', '0.0']\n",
      "['0', '0.0']\n"
     ]
    }
   ],
   "source": [
    "import csv\n",
    "\n",
    "def read_last_n_lines(file_path, n):\n",
    "    with open(file_path, 'r') as file:\n",
    "        lines = file.readlines()\n",
    "\n",
    "    last_n_lines = lines[-n:]\n",
    "    csv_reader = csv.reader(last_n_lines, delimiter=',')\n",
    "\n",
    "    for row in csv_reader:\n",
    "        last_two_columns = row[-2:]\n",
    "        print(last_two_columns)  # Modify this line to process the columns as needed\n",
    "\n",
    "# Usage example\n",
    "file_path = 'pipeline_prefect/output.csv'\n",
    "n = 8\n",
    "read_last_n_lines(file_path, n)"
   ]
  },
  {
   "cell_type": "code",
   "execution_count": 6,
   "metadata": {},
   "outputs": [
    {
     "name": "stdout",
     "output_type": "stream",
     "text": [
      "['True Negative', 'True Negative', 'True Negative', 'True Negative', 'True Negative', 'True Negative', 'True Negative', 'False Positive']\n"
     ]
    }
   ],
   "source": [
    "import csv\n",
    "\n",
    "def classify_last_n_lines(file_path, n):\n",
    "    classification = []\n",
    "\n",
    "    with open(file_path, 'r') as file:\n",
    "        lines = file.readlines()\n",
    "\n",
    "    last_n_lines = lines[-n:]\n",
    "    csv_reader = csv.reader(last_n_lines, delimiter=',')\n",
    "\n",
    "    for row in csv_reader:\n",
    "        last_two_columns = row[-2:]\n",
    "        if last_two_columns == ['0', '0.0']:\n",
    "            classification.append(\"True Negative\")\n",
    "        elif last_two_columns == ['1', '1.0']:\n",
    "            classification.append(\"True Positive\")\n",
    "        elif last_two_columns == ['0', '1.0']:\n",
    "            classification.append(\"False Positive\")\n",
    "        elif last_two_columns == ['1', '0.0']:\n",
    "            classification.append(\"False Negative\")\n",
    "\n",
    "    return classification\n",
    "\n",
    "# Usage example\n",
    "file_path = 'pipeline_prefect/output.csv'\n",
    "n = 8\n",
    "result = classify_last_n_lines(file_path, n)\n",
    "print(result)\n"
   ]
  },
  {
   "cell_type": "code",
   "execution_count": 11,
   "metadata": {},
   "outputs": [
    {
     "name": "stdout",
     "output_type": "stream",
     "text": [
      "['53393', '-0.685503301464494', '0.371116339137508', '2.29620027950088', '-1.15260348115469', '0.192346504967105', '0.637572531419258', '0.442085940523061', '0.0934448904279641', '0.119431152636075', '-0.726568742973774', '0.0243091825691235', '0.386245895227031', '0.335422310493073', '-0.574829359353251', '-0.499516519401832', '0.915083311376495', '-1.27973567595051', '0.721290095958689', '0.211990637474372', '0.137577927012717', '-0.0696200542440359', '-0.0611511493933153', '-0.387846437076485', '-0.794244294328955', '0.294316070747869', '0.562697253535863', '-0.172670753731128', '-0.179019072091509', '0', '0.0']\n"
     ]
    }
   ],
   "source": [
    "def search_csv_file(filename, search_value):\n",
    "    with open(filename, 'r') as file:\n",
    "        reader = csv.reader(file)\n",
    "        for row in reader:\n",
    "            if row[0] == search_value:\n",
    "                return row\n",
    "    return None      \n",
    "result = search_csv_file('pipeline_prefect/output.csv','53393')\n",
    "print(result)"
   ]
  }
 ],
 "metadata": {
  "kernelspec": {
   "display_name": "genenv",
   "language": "python",
   "name": "python3"
  },
  "language_info": {
   "codemirror_mode": {
    "name": "ipython",
    "version": 3
   },
   "file_extension": ".py",
   "mimetype": "text/x-python",
   "name": "python",
   "nbconvert_exporter": "python",
   "pygments_lexer": "ipython3",
   "version": "3.9.0"
  },
  "orig_nbformat": 4
 },
 "nbformat": 4,
 "nbformat_minor": 2
}
